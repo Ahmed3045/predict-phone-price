{
 "cells": [
  {
   "cell_type": "code",
   "execution_count": 1,
   "id": "5e93d860",
   "metadata": {
    "execution": {
     "iopub.execute_input": "2023-08-23T03:28:47.719999Z",
     "iopub.status.busy": "2023-08-23T03:28:47.719431Z",
     "iopub.status.idle": "2023-08-23T03:28:50.168387Z",
     "shell.execute_reply": "2023-08-23T03:28:50.166955Z"
    },
    "papermill": {
     "duration": 2.466503,
     "end_time": "2023-08-23T03:28:50.171842",
     "exception": false,
     "start_time": "2023-08-23T03:28:47.705339",
     "status": "completed"
    },
    "tags": []
   },
   "outputs": [
    {
     "name": "stderr",
     "output_type": "stream",
     "text": [
      "/opt/conda/lib/python3.10/site-packages/scipy/__init__.py:146: UserWarning: A NumPy version >=1.16.5 and <1.23.0 is required for this version of SciPy (detected version 1.23.5\n",
      "  warnings.warn(f\"A NumPy version >={np_minversion} and <{np_maxversion}\"\n"
     ]
    }
   ],
   "source": [
    "import pandas as pd\n",
    "import numpy as np\n",
    "import seaborn as sns\n",
    "import matplotlib.pyplot as plt\n",
    "import plotly.express as px"
   ]
  },
  {
   "cell_type": "code",
   "execution_count": 2,
   "id": "2c73826a",
   "metadata": {
    "execution": {
     "iopub.execute_input": "2023-08-23T03:28:50.197339Z",
     "iopub.status.busy": "2023-08-23T03:28:50.196894Z",
     "iopub.status.idle": "2023-08-23T03:28:50.227276Z",
     "shell.execute_reply": "2023-08-23T03:28:50.225991Z"
    },
    "papermill": {
     "duration": 0.046876,
     "end_time": "2023-08-23T03:28:50.230639",
     "exception": false,
     "start_time": "2023-08-23T03:28:50.183763",
     "status": "completed"
    },
    "tags": []
   },
   "outputs": [],
   "source": [
    "Data=pd.read_csv('/kaggle/input/mobile-phone-price/Mobile phone price.csv')"
   ]
  },
  {
   "cell_type": "code",
   "execution_count": 3,
   "id": "fb8991f7",
   "metadata": {
    "execution": {
     "iopub.execute_input": "2023-08-23T03:28:50.256469Z",
     "iopub.status.busy": "2023-08-23T03:28:50.255288Z",
     "iopub.status.idle": "2023-08-23T03:28:50.290630Z",
     "shell.execute_reply": "2023-08-23T03:28:50.288928Z"
    },
    "papermill": {
     "duration": 0.051261,
     "end_time": "2023-08-23T03:28:50.293408",
     "exception": false,
     "start_time": "2023-08-23T03:28:50.242147",
     "status": "completed"
    },
    "tags": []
   },
   "outputs": [
    {
     "name": "stdout",
     "output_type": "stream",
     "text": [
      "<class 'pandas.core.frame.DataFrame'>\n",
      "RangeIndex: 407 entries, 0 to 406\n",
      "Data columns (total 8 columns):\n",
      " #   Column                  Non-Null Count  Dtype \n",
      "---  ------                  --------------  ----- \n",
      " 0   Brand                   407 non-null    object\n",
      " 1   Model                   407 non-null    object\n",
      " 2   Storage                 407 non-null    object\n",
      " 3   RAM                     407 non-null    object\n",
      " 4   Screen Size (inches)    407 non-null    object\n",
      " 5   Camera (MP)             407 non-null    object\n",
      " 6   Battery Capacity (mAh)  407 non-null    int64 \n",
      " 7   Price ($)               407 non-null    object\n",
      "dtypes: int64(1), object(7)\n",
      "memory usage: 25.6+ KB\n"
     ]
    }
   ],
   "source": [
    "Data.info()"
   ]
  },
  {
   "cell_type": "code",
   "execution_count": 4,
   "id": "f15c7935",
   "metadata": {
    "execution": {
     "iopub.execute_input": "2023-08-23T03:28:50.318252Z",
     "iopub.status.busy": "2023-08-23T03:28:50.317857Z",
     "iopub.status.idle": "2023-08-23T03:28:50.327892Z",
     "shell.execute_reply": "2023-08-23T03:28:50.326623Z"
    },
    "papermill": {
     "duration": 0.025468,
     "end_time": "2023-08-23T03:28:50.330374",
     "exception": false,
     "start_time": "2023-08-23T03:28:50.304906",
     "status": "completed"
    },
    "tags": []
   },
   "outputs": [
    {
     "data": {
      "text/plain": [
       "array(['6.1', '6.8', '6.7', '6.67', '6.4', '6.55', '6.78', '6.43', '6.5',\n",
       "       '6.62', '5.4', '6.2', '6.51', '6.6', '4.7', '6.58', '6.52', '6.44',\n",
       "       '6.53', '6.56', '6.8 + 3.9', '4.5', '6.39', '5.9', '5.5', '6.81',\n",
       "       '5.99', '6.82', '6.3', '6.22', '6', '6.35', '6.9', '6.76', '6.49',\n",
       "       '6.72', '5.7', '6.47', '7.6 (unfolded)', '6.15', '6.57'],\n",
       "      dtype=object)"
      ]
     },
     "execution_count": 4,
     "metadata": {},
     "output_type": "execute_result"
    }
   ],
   "source": [
    "Data[\"Screen Size (inches)\"].unique()"
   ]
  },
  {
   "cell_type": "code",
   "execution_count": 5,
   "id": "cda39bcb",
   "metadata": {
    "execution": {
     "iopub.execute_input": "2023-08-23T03:28:50.357813Z",
     "iopub.status.busy": "2023-08-23T03:28:50.357351Z",
     "iopub.status.idle": "2023-08-23T03:28:50.373782Z",
     "shell.execute_reply": "2023-08-23T03:28:50.372301Z"
    },
    "papermill": {
     "duration": 0.032713,
     "end_time": "2023-08-23T03:28:50.376685",
     "exception": false,
     "start_time": "2023-08-23T03:28:50.343972",
     "status": "completed"
    },
    "scrolled": true,
    "tags": []
   },
   "outputs": [
    {
     "name": "stdout",
     "output_type": "stream",
     "text": [
      "<class 'pandas.core.frame.DataFrame'>\n",
      "RangeIndex: 407 entries, 0 to 406\n",
      "Data columns (total 8 columns):\n",
      " #   Column                Non-Null Count  Dtype \n",
      "---  ------                --------------  ----- \n",
      " 0   Brand                 407 non-null    object\n",
      " 1   Model                 407 non-null    object\n",
      " 2   Storage               407 non-null    object\n",
      " 3   RAM                   407 non-null    object\n",
      " 4   ScreenSize(inches)    407 non-null    object\n",
      " 5   Camera(MP)            407 non-null    object\n",
      " 6   BatteryCapacity(mAh)  407 non-null    int64 \n",
      " 7   Price($)              407 non-null    object\n",
      "dtypes: int64(1), object(7)\n",
      "memory usage: 25.6+ KB\n"
     ]
    }
   ],
   "source": [
    "Data.columns = Data.columns.str.strip() \n",
    "Data.columns=Data.columns.str.replace(\" \",\"\")\n",
    "Data.info()"
   ]
  },
  {
   "cell_type": "code",
   "execution_count": 6,
   "id": "48d75731",
   "metadata": {
    "execution": {
     "iopub.execute_input": "2023-08-23T03:28:50.401891Z",
     "iopub.status.busy": "2023-08-23T03:28:50.401463Z",
     "iopub.status.idle": "2023-08-23T03:28:50.426521Z",
     "shell.execute_reply": "2023-08-23T03:28:50.425182Z"
    },
    "papermill": {
     "duration": 0.040692,
     "end_time": "2023-08-23T03:28:50.429116",
     "exception": false,
     "start_time": "2023-08-23T03:28:50.388424",
     "status": "completed"
    },
    "scrolled": true,
    "tags": []
   },
   "outputs": [
    {
     "data": {
      "text/html": [
       "<div>\n",
       "<style scoped>\n",
       "    .dataframe tbody tr th:only-of-type {\n",
       "        vertical-align: middle;\n",
       "    }\n",
       "\n",
       "    .dataframe tbody tr th {\n",
       "        vertical-align: top;\n",
       "    }\n",
       "\n",
       "    .dataframe thead th {\n",
       "        text-align: right;\n",
       "    }\n",
       "</style>\n",
       "<table border=\"1\" class=\"dataframe\">\n",
       "  <thead>\n",
       "    <tr style=\"text-align: right;\">\n",
       "      <th></th>\n",
       "      <th>Brand</th>\n",
       "      <th>Model</th>\n",
       "      <th>Storage</th>\n",
       "      <th>RAM</th>\n",
       "      <th>ScreenSize(inches)</th>\n",
       "      <th>Camera(MP)</th>\n",
       "      <th>BatteryCapacity(mAh)</th>\n",
       "      <th>Price($)</th>\n",
       "    </tr>\n",
       "  </thead>\n",
       "  <tbody>\n",
       "    <tr>\n",
       "      <th>0</th>\n",
       "      <td>Apple</td>\n",
       "      <td>iPhone 13 Pro</td>\n",
       "      <td>128 GB</td>\n",
       "      <td>6 GB</td>\n",
       "      <td>6.1</td>\n",
       "      <td>12 + 12 + 12</td>\n",
       "      <td>3095</td>\n",
       "      <td>999</td>\n",
       "    </tr>\n",
       "    <tr>\n",
       "      <th>1</th>\n",
       "      <td>Samsung</td>\n",
       "      <td>Galaxy S21 Ultra</td>\n",
       "      <td>256 GB</td>\n",
       "      <td>12 GB</td>\n",
       "      <td>6.8</td>\n",
       "      <td>108 + 10 + 10 + 12</td>\n",
       "      <td>5000</td>\n",
       "      <td>1199</td>\n",
       "    </tr>\n",
       "    <tr>\n",
       "      <th>2</th>\n",
       "      <td>OnePlus</td>\n",
       "      <td>9 Pro</td>\n",
       "      <td>128 GB</td>\n",
       "      <td>8 GB</td>\n",
       "      <td>6.7</td>\n",
       "      <td>48 + 50 + 8 + 2</td>\n",
       "      <td>4500</td>\n",
       "      <td>899</td>\n",
       "    </tr>\n",
       "    <tr>\n",
       "      <th>3</th>\n",
       "      <td>Xiaomi</td>\n",
       "      <td>Redmi Note 10 Pro</td>\n",
       "      <td>128 GB</td>\n",
       "      <td>6 GB</td>\n",
       "      <td>6.67</td>\n",
       "      <td>64 + 8 + 5 + 2</td>\n",
       "      <td>5020</td>\n",
       "      <td>279</td>\n",
       "    </tr>\n",
       "    <tr>\n",
       "      <th>4</th>\n",
       "      <td>Google</td>\n",
       "      <td>Pixel 6</td>\n",
       "      <td>128 GB</td>\n",
       "      <td>8 GB</td>\n",
       "      <td>6.4</td>\n",
       "      <td>50 + 12.2</td>\n",
       "      <td>4614</td>\n",
       "      <td>799</td>\n",
       "    </tr>\n",
       "    <tr>\n",
       "      <th>...</th>\n",
       "      <td>...</td>\n",
       "      <td>...</td>\n",
       "      <td>...</td>\n",
       "      <td>...</td>\n",
       "      <td>...</td>\n",
       "      <td>...</td>\n",
       "      <td>...</td>\n",
       "      <td>...</td>\n",
       "    </tr>\n",
       "    <tr>\n",
       "      <th>402</th>\n",
       "      <td>Samsung</td>\n",
       "      <td>Galaxy Note20 5G</td>\n",
       "      <td>128</td>\n",
       "      <td>8</td>\n",
       "      <td>6.7</td>\n",
       "      <td>12+64+12</td>\n",
       "      <td>4300</td>\n",
       "      <td>1049</td>\n",
       "    </tr>\n",
       "    <tr>\n",
       "      <th>403</th>\n",
       "      <td>Xiaomi</td>\n",
       "      <td>Mi 10 Lite 5G</td>\n",
       "      <td>128</td>\n",
       "      <td>6</td>\n",
       "      <td>6.57</td>\n",
       "      <td>48+8+2+2</td>\n",
       "      <td>4160</td>\n",
       "      <td>349</td>\n",
       "    </tr>\n",
       "    <tr>\n",
       "      <th>404</th>\n",
       "      <td>Apple</td>\n",
       "      <td>iPhone 12 Pro Max</td>\n",
       "      <td>128</td>\n",
       "      <td>6</td>\n",
       "      <td>6.7</td>\n",
       "      <td>12+12+12</td>\n",
       "      <td>3687</td>\n",
       "      <td>1099</td>\n",
       "    </tr>\n",
       "    <tr>\n",
       "      <th>405</th>\n",
       "      <td>Oppo</td>\n",
       "      <td>Reno3</td>\n",
       "      <td>128</td>\n",
       "      <td>8</td>\n",
       "      <td>6.4</td>\n",
       "      <td>48+13+8+2</td>\n",
       "      <td>4025</td>\n",
       "      <td>429</td>\n",
       "    </tr>\n",
       "    <tr>\n",
       "      <th>406</th>\n",
       "      <td>Samsung</td>\n",
       "      <td>Galaxy S10 Lite</td>\n",
       "      <td>128</td>\n",
       "      <td>6</td>\n",
       "      <td>6.7</td>\n",
       "      <td>48+12+5</td>\n",
       "      <td>4500</td>\n",
       "      <td>649</td>\n",
       "    </tr>\n",
       "  </tbody>\n",
       "</table>\n",
       "<p>407 rows × 8 columns</p>\n",
       "</div>"
      ],
      "text/plain": [
       "       Brand              Model Storage    RAM ScreenSize(inches)  \\\n",
       "0      Apple      iPhone 13 Pro  128 GB   6 GB                6.1   \n",
       "1    Samsung   Galaxy S21 Ultra  256 GB  12 GB                6.8   \n",
       "2    OnePlus              9 Pro  128 GB   8 GB                6.7   \n",
       "3     Xiaomi  Redmi Note 10 Pro  128 GB   6 GB               6.67   \n",
       "4     Google            Pixel 6  128 GB   8 GB                6.4   \n",
       "..       ...                ...     ...    ...                ...   \n",
       "402  Samsung   Galaxy Note20 5G     128      8                6.7   \n",
       "403   Xiaomi      Mi 10 Lite 5G     128      6               6.57   \n",
       "404    Apple  iPhone 12 Pro Max     128      6                6.7   \n",
       "405     Oppo              Reno3     128      8                6.4   \n",
       "406  Samsung    Galaxy S10 Lite     128      6                6.7   \n",
       "\n",
       "             Camera(MP)  BatteryCapacity(mAh) Price($)  \n",
       "0          12 + 12 + 12                  3095      999  \n",
       "1    108 + 10 + 10 + 12                  5000     1199  \n",
       "2       48 + 50 + 8 + 2                  4500      899  \n",
       "3        64 + 8 + 5 + 2                  5020      279  \n",
       "4             50 + 12.2                  4614      799  \n",
       "..                  ...                   ...      ...  \n",
       "402            12+64+12                  4300     1049  \n",
       "403            48+8+2+2                  4160      349  \n",
       "404            12+12+12                  3687     1099  \n",
       "405           48+13+8+2                  4025      429  \n",
       "406             48+12+5                  4500      649  \n",
       "\n",
       "[407 rows x 8 columns]"
      ]
     },
     "execution_count": 6,
     "metadata": {},
     "output_type": "execute_result"
    }
   ],
   "source": [
    "Data"
   ]
  },
  {
   "cell_type": "code",
   "execution_count": 7,
   "id": "d49a8d07",
   "metadata": {
    "execution": {
     "iopub.execute_input": "2023-08-23T03:28:50.455642Z",
     "iopub.status.busy": "2023-08-23T03:28:50.455172Z",
     "iopub.status.idle": "2023-08-23T03:28:50.467353Z",
     "shell.execute_reply": "2023-08-23T03:28:50.466425Z"
    },
    "papermill": {
     "duration": 0.028372,
     "end_time": "2023-08-23T03:28:50.469598",
     "exception": false,
     "start_time": "2023-08-23T03:28:50.441226",
     "status": "completed"
    },
    "tags": []
   },
   "outputs": [
    {
     "data": {
      "text/plain": [
       "0      128 \n",
       "1      256 \n",
       "2      128 \n",
       "3      128 \n",
       "4      128 \n",
       "       ... \n",
       "402     128\n",
       "403     128\n",
       "404     128\n",
       "405     128\n",
       "406     128\n",
       "Name: Storage, Length: 407, dtype: object"
      ]
     },
     "execution_count": 7,
     "metadata": {},
     "output_type": "execute_result"
    }
   ],
   "source": [
    "Data[\"Storage\"]=Data[\"Storage\"].str.strip()\n",
    "Data[\"Storage\"]=Data[\"Storage\"].str.replace(\"GB\",\"\")\n",
    "Data[\"Storage\"]\n"
   ]
  },
  {
   "cell_type": "code",
   "execution_count": 8,
   "id": "1a47086b",
   "metadata": {
    "execution": {
     "iopub.execute_input": "2023-08-23T03:28:50.495741Z",
     "iopub.status.busy": "2023-08-23T03:28:50.495331Z",
     "iopub.status.idle": "2023-08-23T03:28:50.507922Z",
     "shell.execute_reply": "2023-08-23T03:28:50.506633Z"
    },
    "papermill": {
     "duration": 0.028982,
     "end_time": "2023-08-23T03:28:50.510759",
     "exception": false,
     "start_time": "2023-08-23T03:28:50.481777",
     "status": "completed"
    },
    "tags": []
   },
   "outputs": [
    {
     "data": {
      "text/plain": [
       "0       6 \n",
       "1      12 \n",
       "2       8 \n",
       "3       6 \n",
       "4       8 \n",
       "      ... \n",
       "402      8\n",
       "403      6\n",
       "404      6\n",
       "405      8\n",
       "406      6\n",
       "Name: RAM, Length: 407, dtype: object"
      ]
     },
     "execution_count": 8,
     "metadata": {},
     "output_type": "execute_result"
    }
   ],
   "source": [
    "Data[\"RAM\"]=Data[\"RAM\"].str.strip()\n",
    "Data[\"RAM\"]=Data[\"RAM\"].str.replace(\"GB\",\"\")\n",
    "Data[\"RAM\"]"
   ]
  },
  {
   "cell_type": "code",
   "execution_count": 9,
   "id": "cc5b12b4",
   "metadata": {
    "execution": {
     "iopub.execute_input": "2023-08-23T03:28:50.537231Z",
     "iopub.status.busy": "2023-08-23T03:28:50.536855Z",
     "iopub.status.idle": "2023-08-23T03:28:50.544710Z",
     "shell.execute_reply": "2023-08-23T03:28:50.543420Z"
    },
    "papermill": {
     "duration": 0.023837,
     "end_time": "2023-08-23T03:28:50.546928",
     "exception": false,
     "start_time": "2023-08-23T03:28:50.523091",
     "status": "completed"
    },
    "tags": []
   },
   "outputs": [],
   "source": [
    "Data[\"ScreenSize(inches)\"]=Data[\"ScreenSize(inches)\"].str.replace(\"\",\"\")"
   ]
  },
  {
   "cell_type": "code",
   "execution_count": 10,
   "id": "5a11be43",
   "metadata": {
    "execution": {
     "iopub.execute_input": "2023-08-23T03:28:50.573008Z",
     "iopub.status.busy": "2023-08-23T03:28:50.572590Z",
     "iopub.status.idle": "2023-08-23T03:28:50.593543Z",
     "shell.execute_reply": "2023-08-23T03:28:50.592071Z"
    },
    "papermill": {
     "duration": 0.03696,
     "end_time": "2023-08-23T03:28:50.595962",
     "exception": false,
     "start_time": "2023-08-23T03:28:50.559002",
     "status": "completed"
    },
    "scrolled": true,
    "tags": []
   },
   "outputs": [
    {
     "name": "stderr",
     "output_type": "stream",
     "text": [
      "/tmp/ipykernel_20/743479457.py:5: FutureWarning: The default value of regex will change from True to False in a future version.\n",
      "  Data[\"ScreenSize(inches)\"]=Data[\"ScreenSize(inches)\"].str.replace(\"()\",\"\")\n"
     ]
    },
    {
     "data": {
      "text/plain": [
       "0      6.10\n",
       "1      6.80\n",
       "2      6.70\n",
       "3      6.67\n",
       "4      6.40\n",
       "       ... \n",
       "402    6.70\n",
       "403    6.57\n",
       "404    6.70\n",
       "405    6.40\n",
       "406    6.70\n",
       "Name: ScreenSize(inches), Length: 407, dtype: float64"
      ]
     },
     "execution_count": 10,
     "metadata": {},
     "output_type": "execute_result"
    }
   ],
   "source": [
    "import re\n",
    "Data[\"ScreenSize(inches)\"]=Data[\"ScreenSize(inches)\"].str.strip()\n",
    "Data[\"ScreenSize(inches)\"].unique()\n",
    "Data[\"ScreenSize(inches)\"]=Data[\"ScreenSize(inches)\"].str.replace(\"unfolded\",\"\")\n",
    "Data[\"ScreenSize(inches)\"]=Data[\"ScreenSize(inches)\"].str.replace(\"()\",\"\")\n",
    "def extract_numeric_screen_size(size_str):\n",
    "    numeric_values = re.findall(r'\\d+\\.*\\d*', size_str)\n",
    "    return float(numeric_values[0]) if numeric_values else None\n",
    "Data['ScreenSize(inches)'] = Data['ScreenSize(inches)'].apply(extract_numeric_screen_size)\n",
    "Data['ScreenSize(inches)']"
   ]
  },
  {
   "cell_type": "code",
   "execution_count": 11,
   "id": "93089820",
   "metadata": {
    "execution": {
     "iopub.execute_input": "2023-08-23T03:28:50.622522Z",
     "iopub.status.busy": "2023-08-23T03:28:50.622093Z",
     "iopub.status.idle": "2023-08-23T03:28:50.632477Z",
     "shell.execute_reply": "2023-08-23T03:28:50.630688Z"
    },
    "papermill": {
     "duration": 0.026781,
     "end_time": "2023-08-23T03:28:50.634937",
     "exception": false,
     "start_time": "2023-08-23T03:28:50.608156",
     "status": "completed"
    },
    "tags": []
   },
   "outputs": [
    {
     "name": "stdout",
     "output_type": "stream",
     "text": [
      "[6.1  6.8  6.7  6.67 6.4  6.55 6.78 6.43 6.5  6.62 5.4  6.2  6.51 6.6\n",
      " 4.7  6.58 6.52 6.44 6.53 6.56 4.5  6.39 5.9  5.5  6.81 5.99 6.82 6.3\n",
      " 6.22 6.   6.35 6.9  6.76 6.49 6.72 5.7  6.47 7.6  6.15 6.57]\n"
     ]
    }
   ],
   "source": [
    "print(Data[\"ScreenSize(inches)\"].unique())"
   ]
  },
  {
   "cell_type": "code",
   "execution_count": 12,
   "id": "3917cc3e",
   "metadata": {
    "execution": {
     "iopub.execute_input": "2023-08-23T03:28:50.661204Z",
     "iopub.status.busy": "2023-08-23T03:28:50.660809Z",
     "iopub.status.idle": "2023-08-23T03:28:50.677285Z",
     "shell.execute_reply": "2023-08-23T03:28:50.676115Z"
    },
    "papermill": {
     "duration": 0.032553,
     "end_time": "2023-08-23T03:28:50.679715",
     "exception": false,
     "start_time": "2023-08-23T03:28:50.647162",
     "status": "completed"
    },
    "scrolled": true,
    "tags": []
   },
   "outputs": [
    {
     "data": {
      "text/plain": [
       "0       12.0\n",
       "1      108.0\n",
       "2       48.0\n",
       "3       64.0\n",
       "4       50.0\n",
       "       ...  \n",
       "402     12.0\n",
       "403     48.0\n",
       "404     12.0\n",
       "405     48.0\n",
       "406     48.0\n",
       "Name: Camera(MP), Length: 407, dtype: float64"
      ]
     },
     "execution_count": 12,
     "metadata": {},
     "output_type": "execute_result"
    }
   ],
   "source": [
    "Data[\"Camera(MP)\"].unique()\n",
    "Data[\"Camera(MP)\"]=Data[\"Camera(MP)\"].str.replace(\"MP\",\"\")\n",
    "def extract_numeric_screen_size(size_str):\n",
    "    numeric_values = re.findall(r'\\d+\\.*\\d*', size_str)\n",
    "    return float(numeric_values[0]) if numeric_values else None\n",
    "Data['Camera(MP)'] = Data['Camera(MP)'].apply(extract_numeric_screen_size)\n",
    "Data['Camera(MP)'] "
   ]
  },
  {
   "cell_type": "code",
   "execution_count": 13,
   "id": "3445a189",
   "metadata": {
    "execution": {
     "iopub.execute_input": "2023-08-23T03:28:50.706833Z",
     "iopub.status.busy": "2023-08-23T03:28:50.706344Z",
     "iopub.status.idle": "2023-08-23T03:28:50.714459Z",
     "shell.execute_reply": "2023-08-23T03:28:50.713177Z"
    },
    "papermill": {
     "duration": 0.025039,
     "end_time": "2023-08-23T03:28:50.717135",
     "exception": false,
     "start_time": "2023-08-23T03:28:50.692096",
     "status": "completed"
    },
    "scrolled": true,
    "tags": []
   },
   "outputs": [
    {
     "name": "stderr",
     "output_type": "stream",
     "text": [
      "/tmp/ipykernel_20/464969199.py:1: FutureWarning: The default value of regex will change from True to False in a future version. In addition, single character regular expressions will *not* be treated as literal strings when regex=True.\n",
      "  Data[\"Price($)\"]=Data[\"Price($)\"].str.replace(\"$\",\"\")\n"
     ]
    }
   ],
   "source": [
    "Data[\"Price($)\"]=Data[\"Price($)\"].str.replace(\"$\",\"\")"
   ]
  },
  {
   "cell_type": "code",
   "execution_count": 14,
   "id": "e8530496",
   "metadata": {
    "execution": {
     "iopub.execute_input": "2023-08-23T03:28:50.744182Z",
     "iopub.status.busy": "2023-08-23T03:28:50.743421Z",
     "iopub.status.idle": "2023-08-23T03:28:50.758460Z",
     "shell.execute_reply": "2023-08-23T03:28:50.757417Z"
    },
    "papermill": {
     "duration": 0.031452,
     "end_time": "2023-08-23T03:28:50.761073",
     "exception": false,
     "start_time": "2023-08-23T03:28:50.729621",
     "status": "completed"
    },
    "tags": []
   },
   "outputs": [
    {
     "name": "stdout",
     "output_type": "stream",
     "text": [
      "<class 'pandas.core.frame.DataFrame'>\n",
      "RangeIndex: 407 entries, 0 to 406\n",
      "Data columns (total 8 columns):\n",
      " #   Column                Non-Null Count  Dtype  \n",
      "---  ------                --------------  -----  \n",
      " 0   Brand                 407 non-null    object \n",
      " 1   Model                 407 non-null    object \n",
      " 2   Storage               407 non-null    object \n",
      " 3   RAM                   407 non-null    object \n",
      " 4   ScreenSize(inches)    407 non-null    float64\n",
      " 5   Camera(MP)            407 non-null    float64\n",
      " 6   BatteryCapacity(mAh)  407 non-null    int64  \n",
      " 7   Price($)              407 non-null    object \n",
      "dtypes: float64(2), int64(1), object(5)\n",
      "memory usage: 25.6+ KB\n"
     ]
    }
   ],
   "source": [
    " Data.info()\n"
   ]
  },
  {
   "cell_type": "code",
   "execution_count": 15,
   "id": "cb789e87",
   "metadata": {
    "execution": {
     "iopub.execute_input": "2023-08-23T03:28:50.789590Z",
     "iopub.status.busy": "2023-08-23T03:28:50.789179Z",
     "iopub.status.idle": "2023-08-23T03:28:50.804981Z",
     "shell.execute_reply": "2023-08-23T03:28:50.804113Z"
    },
    "papermill": {
     "duration": 0.033048,
     "end_time": "2023-08-23T03:28:50.807383",
     "exception": false,
     "start_time": "2023-08-23T03:28:50.774335",
     "status": "completed"
    },
    "tags": []
   },
   "outputs": [
    {
     "name": "stdout",
     "output_type": "stream",
     "text": [
      "<class 'pandas.core.frame.DataFrame'>\n",
      "RangeIndex: 407 entries, 0 to 406\n",
      "Data columns (total 8 columns):\n",
      " #   Column                Non-Null Count  Dtype  \n",
      "---  ------                --------------  -----  \n",
      " 0   Brand                 407 non-null    int8   \n",
      " 1   Model                 407 non-null    object \n",
      " 2   Storage               407 non-null    object \n",
      " 3   RAM                   407 non-null    object \n",
      " 4   ScreenSize(inches)    407 non-null    float64\n",
      " 5   Camera(MP)            407 non-null    float64\n",
      " 6   BatteryCapacity(mAh)  407 non-null    int64  \n",
      " 7   Price($)              407 non-null    object \n",
      "dtypes: float64(2), int64(1), int8(1), object(4)\n",
      "memory usage: 22.8+ KB\n"
     ]
    }
   ],
   "source": [
    "Data[\"Brand\"] = Data[\"Brand\"].astype(\"category\")\n",
    "Data[\"Brand\"] = Data[\"Brand\"].cat.codes\n",
    "Data.info()\n"
   ]
  },
  {
   "cell_type": "code",
   "execution_count": 16,
   "id": "a161d152",
   "metadata": {
    "execution": {
     "iopub.execute_input": "2023-08-23T03:28:50.834879Z",
     "iopub.status.busy": "2023-08-23T03:28:50.834413Z",
     "iopub.status.idle": "2023-08-23T03:28:50.854014Z",
     "shell.execute_reply": "2023-08-23T03:28:50.852488Z"
    },
    "papermill": {
     "duration": 0.036133,
     "end_time": "2023-08-23T03:28:50.856222",
     "exception": false,
     "start_time": "2023-08-23T03:28:50.820089",
     "status": "completed"
    },
    "tags": []
   },
   "outputs": [
    {
     "name": "stdout",
     "output_type": "stream",
     "text": [
      "<class 'pandas.core.frame.DataFrame'>\n",
      "RangeIndex: 407 entries, 0 to 406\n",
      "Data columns (total 8 columns):\n",
      " #   Column                Non-Null Count  Dtype  \n",
      "---  ------                --------------  -----  \n",
      " 0   Brand                 407 non-null    int8   \n",
      " 1   Model                 407 non-null    int16  \n",
      " 2   Storage               407 non-null    object \n",
      " 3   RAM                   407 non-null    object \n",
      " 4   ScreenSize(inches)    407 non-null    float64\n",
      " 5   Camera(MP)            407 non-null    float64\n",
      " 6   BatteryCapacity(mAh)  407 non-null    int64  \n",
      " 7   Price($)              407 non-null    object \n",
      "dtypes: float64(2), int16(1), int64(1), int8(1), object(3)\n",
      "memory usage: 20.4+ KB\n"
     ]
    }
   ],
   "source": [
    "Data[\"Model\"] = Data[\"Model\"].astype(\"category\")\n",
    "Data[\"Model\"] = Data[\"Model\"].cat.codes\n",
    "Data.info()\n"
   ]
  },
  {
   "cell_type": "code",
   "execution_count": 17,
   "id": "ef1ae35e",
   "metadata": {
    "execution": {
     "iopub.execute_input": "2023-08-23T03:28:50.884018Z",
     "iopub.status.busy": "2023-08-23T03:28:50.883547Z",
     "iopub.status.idle": "2023-08-23T03:28:50.904409Z",
     "shell.execute_reply": "2023-08-23T03:28:50.903287Z"
    },
    "papermill": {
     "duration": 0.037946,
     "end_time": "2023-08-23T03:28:50.906956",
     "exception": false,
     "start_time": "2023-08-23T03:28:50.869010",
     "status": "completed"
    },
    "tags": []
   },
   "outputs": [
    {
     "data": {
      "text/html": [
       "<div>\n",
       "<style scoped>\n",
       "    .dataframe tbody tr th:only-of-type {\n",
       "        vertical-align: middle;\n",
       "    }\n",
       "\n",
       "    .dataframe tbody tr th {\n",
       "        vertical-align: top;\n",
       "    }\n",
       "\n",
       "    .dataframe thead th {\n",
       "        text-align: right;\n",
       "    }\n",
       "</style>\n",
       "<table border=\"1\" class=\"dataframe\">\n",
       "  <thead>\n",
       "    <tr style=\"text-align: right;\">\n",
       "      <th></th>\n",
       "      <th>Brand</th>\n",
       "      <th>Model</th>\n",
       "      <th>Storage</th>\n",
       "      <th>RAM</th>\n",
       "      <th>ScreenSize(inches)</th>\n",
       "      <th>Camera(MP)</th>\n",
       "      <th>BatteryCapacity(mAh)</th>\n",
       "      <th>Price($)</th>\n",
       "    </tr>\n",
       "  </thead>\n",
       "  <tbody>\n",
       "    <tr>\n",
       "      <th>0</th>\n",
       "      <td>0</td>\n",
       "      <td>232</td>\n",
       "      <td>128</td>\n",
       "      <td>6</td>\n",
       "      <td>6.10</td>\n",
       "      <td>12.0</td>\n",
       "      <td>3095</td>\n",
       "      <td>999</td>\n",
       "    </tr>\n",
       "    <tr>\n",
       "      <th>1</th>\n",
       "      <td>12</td>\n",
       "      <td>100</td>\n",
       "      <td>256</td>\n",
       "      <td>12</td>\n",
       "      <td>6.80</td>\n",
       "      <td>108.0</td>\n",
       "      <td>5000</td>\n",
       "      <td>1199</td>\n",
       "    </tr>\n",
       "    <tr>\n",
       "      <th>2</th>\n",
       "      <td>9</td>\n",
       "      <td>19</td>\n",
       "      <td>128</td>\n",
       "      <td>8</td>\n",
       "      <td>6.70</td>\n",
       "      <td>48.0</td>\n",
       "      <td>4500</td>\n",
       "      <td>899</td>\n",
       "    </tr>\n",
       "    <tr>\n",
       "      <th>3</th>\n",
       "      <td>15</td>\n",
       "      <td>178</td>\n",
       "      <td>128</td>\n",
       "      <td>6</td>\n",
       "      <td>6.67</td>\n",
       "      <td>64.0</td>\n",
       "      <td>5020</td>\n",
       "      <td>279</td>\n",
       "    </tr>\n",
       "    <tr>\n",
       "      <th>4</th>\n",
       "      <td>4</td>\n",
       "      <td>162</td>\n",
       "      <td>128</td>\n",
       "      <td>8</td>\n",
       "      <td>6.40</td>\n",
       "      <td>50.0</td>\n",
       "      <td>4614</td>\n",
       "      <td>799</td>\n",
       "    </tr>\n",
       "    <tr>\n",
       "      <th>...</th>\n",
       "      <td>...</td>\n",
       "      <td>...</td>\n",
       "      <td>...</td>\n",
       "      <td>...</td>\n",
       "      <td>...</td>\n",
       "      <td>...</td>\n",
       "      <td>...</td>\n",
       "      <td>...</td>\n",
       "    </tr>\n",
       "    <tr>\n",
       "      <th>402</th>\n",
       "      <td>12</td>\n",
       "      <td>95</td>\n",
       "      <td>128</td>\n",
       "      <td>8</td>\n",
       "      <td>6.70</td>\n",
       "      <td>12.0</td>\n",
       "      <td>4300</td>\n",
       "      <td>1049</td>\n",
       "    </tr>\n",
       "    <tr>\n",
       "      <th>403</th>\n",
       "      <td>15</td>\n",
       "      <td>111</td>\n",
       "      <td>128</td>\n",
       "      <td>6</td>\n",
       "      <td>6.57</td>\n",
       "      <td>48.0</td>\n",
       "      <td>4160</td>\n",
       "      <td>349</td>\n",
       "    </tr>\n",
       "    <tr>\n",
       "      <th>404</th>\n",
       "      <td>0</td>\n",
       "      <td>229</td>\n",
       "      <td>128</td>\n",
       "      <td>6</td>\n",
       "      <td>6.70</td>\n",
       "      <td>12.0</td>\n",
       "      <td>3687</td>\n",
       "      <td>1099</td>\n",
       "    </tr>\n",
       "    <tr>\n",
       "      <th>405</th>\n",
       "      <td>10</td>\n",
       "      <td>188</td>\n",
       "      <td>128</td>\n",
       "      <td>8</td>\n",
       "      <td>6.40</td>\n",
       "      <td>48.0</td>\n",
       "      <td>4025</td>\n",
       "      <td>429</td>\n",
       "    </tr>\n",
       "    <tr>\n",
       "      <th>406</th>\n",
       "      <td>12</td>\n",
       "      <td>96</td>\n",
       "      <td>128</td>\n",
       "      <td>6</td>\n",
       "      <td>6.70</td>\n",
       "      <td>48.0</td>\n",
       "      <td>4500</td>\n",
       "      <td>649</td>\n",
       "    </tr>\n",
       "  </tbody>\n",
       "</table>\n",
       "<p>407 rows × 8 columns</p>\n",
       "</div>"
      ],
      "text/plain": [
       "     Brand  Model Storage  RAM  ScreenSize(inches)  Camera(MP)  \\\n",
       "0        0    232    128    6                 6.10        12.0   \n",
       "1       12    100    256   12                 6.80       108.0   \n",
       "2        9     19    128    8                 6.70        48.0   \n",
       "3       15    178    128    6                 6.67        64.0   \n",
       "4        4    162    128    8                 6.40        50.0   \n",
       "..     ...    ...     ...  ...                 ...         ...   \n",
       "402     12     95     128    8                6.70        12.0   \n",
       "403     15    111     128    6                6.57        48.0   \n",
       "404      0    229     128    6                6.70        12.0   \n",
       "405     10    188     128    8                6.40        48.0   \n",
       "406     12     96     128    6                6.70        48.0   \n",
       "\n",
       "     BatteryCapacity(mAh) Price($)  \n",
       "0                    3095      999  \n",
       "1                    5000     1199  \n",
       "2                    4500      899  \n",
       "3                    5020      279  \n",
       "4                    4614      799  \n",
       "..                    ...      ...  \n",
       "402                  4300     1049  \n",
       "403                  4160      349  \n",
       "404                  3687     1099  \n",
       "405                  4025      429  \n",
       "406                  4500      649  \n",
       "\n",
       "[407 rows x 8 columns]"
      ]
     },
     "execution_count": 17,
     "metadata": {},
     "output_type": "execute_result"
    }
   ],
   "source": [
    "Data"
   ]
  },
  {
   "cell_type": "code",
   "execution_count": 18,
   "id": "1219bc7c",
   "metadata": {
    "execution": {
     "iopub.execute_input": "2023-08-23T03:28:50.936298Z",
     "iopub.status.busy": "2023-08-23T03:28:50.935811Z",
     "iopub.status.idle": "2023-08-23T03:28:50.951929Z",
     "shell.execute_reply": "2023-08-23T03:28:50.950651Z"
    },
    "papermill": {
     "duration": 0.03547,
     "end_time": "2023-08-23T03:28:50.955894",
     "exception": false,
     "start_time": "2023-08-23T03:28:50.920424",
     "status": "completed"
    },
    "tags": []
   },
   "outputs": [
    {
     "name": "stdout",
     "output_type": "stream",
     "text": [
      "<class 'pandas.core.frame.DataFrame'>\n",
      "RangeIndex: 407 entries, 0 to 406\n",
      "Data columns (total 8 columns):\n",
      " #   Column                Non-Null Count  Dtype  \n",
      "---  ------                --------------  -----  \n",
      " 0   Brand                 407 non-null    int8   \n",
      " 1   Model                 407 non-null    int16  \n",
      " 2   Storage               407 non-null    float64\n",
      " 3   RAM                   407 non-null    float64\n",
      " 4   ScreenSize(inches)    407 non-null    float64\n",
      " 5   Camera(MP)            407 non-null    float64\n",
      " 6   BatteryCapacity(mAh)  407 non-null    int64  \n",
      " 7   Price($)              407 non-null    object \n",
      "dtypes: float64(4), int16(1), int64(1), int8(1), object(1)\n",
      "memory usage: 20.4+ KB\n"
     ]
    }
   ],
   "source": [
    "Data[\"Storage\"] = Data[\"Storage\"].astype(\"float\")\n",
    "Data[\"RAM\"] = Data[\"RAM\"].astype(\"float\")\n",
    "Data.info()\n"
   ]
  },
  {
   "cell_type": "code",
   "execution_count": 19,
   "id": "9615960d",
   "metadata": {
    "execution": {
     "iopub.execute_input": "2023-08-23T03:28:50.985598Z",
     "iopub.status.busy": "2023-08-23T03:28:50.985143Z",
     "iopub.status.idle": "2023-08-23T03:28:51.008976Z",
     "shell.execute_reply": "2023-08-23T03:28:51.007661Z"
    },
    "papermill": {
     "duration": 0.04174,
     "end_time": "2023-08-23T03:28:51.011510",
     "exception": false,
     "start_time": "2023-08-23T03:28:50.969770",
     "status": "completed"
    },
    "tags": []
   },
   "outputs": [
    {
     "data": {
      "text/html": [
       "<div>\n",
       "<style scoped>\n",
       "    .dataframe tbody tr th:only-of-type {\n",
       "        vertical-align: middle;\n",
       "    }\n",
       "\n",
       "    .dataframe tbody tr th {\n",
       "        vertical-align: top;\n",
       "    }\n",
       "\n",
       "    .dataframe thead th {\n",
       "        text-align: right;\n",
       "    }\n",
       "</style>\n",
       "<table border=\"1\" class=\"dataframe\">\n",
       "  <thead>\n",
       "    <tr style=\"text-align: right;\">\n",
       "      <th></th>\n",
       "      <th>Brand</th>\n",
       "      <th>Model</th>\n",
       "      <th>Storage</th>\n",
       "      <th>RAM</th>\n",
       "      <th>ScreenSize(inches)</th>\n",
       "      <th>Camera(MP)</th>\n",
       "      <th>BatteryCapacity(mAh)</th>\n",
       "      <th>Price($)</th>\n",
       "    </tr>\n",
       "  </thead>\n",
       "  <tbody>\n",
       "    <tr>\n",
       "      <th>0</th>\n",
       "      <td>0</td>\n",
       "      <td>232</td>\n",
       "      <td>128.0</td>\n",
       "      <td>6.0</td>\n",
       "      <td>6.10</td>\n",
       "      <td>12.0</td>\n",
       "      <td>3095</td>\n",
       "      <td>999</td>\n",
       "    </tr>\n",
       "    <tr>\n",
       "      <th>1</th>\n",
       "      <td>12</td>\n",
       "      <td>100</td>\n",
       "      <td>256.0</td>\n",
       "      <td>12.0</td>\n",
       "      <td>6.80</td>\n",
       "      <td>108.0</td>\n",
       "      <td>5000</td>\n",
       "      <td>1199</td>\n",
       "    </tr>\n",
       "    <tr>\n",
       "      <th>2</th>\n",
       "      <td>9</td>\n",
       "      <td>19</td>\n",
       "      <td>128.0</td>\n",
       "      <td>8.0</td>\n",
       "      <td>6.70</td>\n",
       "      <td>48.0</td>\n",
       "      <td>4500</td>\n",
       "      <td>899</td>\n",
       "    </tr>\n",
       "    <tr>\n",
       "      <th>3</th>\n",
       "      <td>15</td>\n",
       "      <td>178</td>\n",
       "      <td>128.0</td>\n",
       "      <td>6.0</td>\n",
       "      <td>6.67</td>\n",
       "      <td>64.0</td>\n",
       "      <td>5020</td>\n",
       "      <td>279</td>\n",
       "    </tr>\n",
       "    <tr>\n",
       "      <th>4</th>\n",
       "      <td>4</td>\n",
       "      <td>162</td>\n",
       "      <td>128.0</td>\n",
       "      <td>8.0</td>\n",
       "      <td>6.40</td>\n",
       "      <td>50.0</td>\n",
       "      <td>4614</td>\n",
       "      <td>799</td>\n",
       "    </tr>\n",
       "    <tr>\n",
       "      <th>...</th>\n",
       "      <td>...</td>\n",
       "      <td>...</td>\n",
       "      <td>...</td>\n",
       "      <td>...</td>\n",
       "      <td>...</td>\n",
       "      <td>...</td>\n",
       "      <td>...</td>\n",
       "      <td>...</td>\n",
       "    </tr>\n",
       "    <tr>\n",
       "      <th>402</th>\n",
       "      <td>12</td>\n",
       "      <td>95</td>\n",
       "      <td>128.0</td>\n",
       "      <td>8.0</td>\n",
       "      <td>6.70</td>\n",
       "      <td>12.0</td>\n",
       "      <td>4300</td>\n",
       "      <td>1049</td>\n",
       "    </tr>\n",
       "    <tr>\n",
       "      <th>403</th>\n",
       "      <td>15</td>\n",
       "      <td>111</td>\n",
       "      <td>128.0</td>\n",
       "      <td>6.0</td>\n",
       "      <td>6.57</td>\n",
       "      <td>48.0</td>\n",
       "      <td>4160</td>\n",
       "      <td>349</td>\n",
       "    </tr>\n",
       "    <tr>\n",
       "      <th>404</th>\n",
       "      <td>0</td>\n",
       "      <td>229</td>\n",
       "      <td>128.0</td>\n",
       "      <td>6.0</td>\n",
       "      <td>6.70</td>\n",
       "      <td>12.0</td>\n",
       "      <td>3687</td>\n",
       "      <td>1099</td>\n",
       "    </tr>\n",
       "    <tr>\n",
       "      <th>405</th>\n",
       "      <td>10</td>\n",
       "      <td>188</td>\n",
       "      <td>128.0</td>\n",
       "      <td>8.0</td>\n",
       "      <td>6.40</td>\n",
       "      <td>48.0</td>\n",
       "      <td>4025</td>\n",
       "      <td>429</td>\n",
       "    </tr>\n",
       "    <tr>\n",
       "      <th>406</th>\n",
       "      <td>12</td>\n",
       "      <td>96</td>\n",
       "      <td>128.0</td>\n",
       "      <td>6.0</td>\n",
       "      <td>6.70</td>\n",
       "      <td>48.0</td>\n",
       "      <td>4500</td>\n",
       "      <td>649</td>\n",
       "    </tr>\n",
       "  </tbody>\n",
       "</table>\n",
       "<p>407 rows × 8 columns</p>\n",
       "</div>"
      ],
      "text/plain": [
       "     Brand  Model  Storage   RAM  ScreenSize(inches)  Camera(MP)  \\\n",
       "0        0    232    128.0   6.0                6.10        12.0   \n",
       "1       12    100    256.0  12.0                6.80       108.0   \n",
       "2        9     19    128.0   8.0                6.70        48.0   \n",
       "3       15    178    128.0   6.0                6.67        64.0   \n",
       "4        4    162    128.0   8.0                6.40        50.0   \n",
       "..     ...    ...      ...   ...                 ...         ...   \n",
       "402     12     95    128.0   8.0                6.70        12.0   \n",
       "403     15    111    128.0   6.0                6.57        48.0   \n",
       "404      0    229    128.0   6.0                6.70        12.0   \n",
       "405     10    188    128.0   8.0                6.40        48.0   \n",
       "406     12     96    128.0   6.0                6.70        48.0   \n",
       "\n",
       "     BatteryCapacity(mAh) Price($)  \n",
       "0                    3095      999  \n",
       "1                    5000     1199  \n",
       "2                    4500      899  \n",
       "3                    5020      279  \n",
       "4                    4614      799  \n",
       "..                    ...      ...  \n",
       "402                  4300     1049  \n",
       "403                  4160      349  \n",
       "404                  3687     1099  \n",
       "405                  4025      429  \n",
       "406                  4500      649  \n",
       "\n",
       "[407 rows x 8 columns]"
      ]
     },
     "execution_count": 19,
     "metadata": {},
     "output_type": "execute_result"
    }
   ],
   "source": [
    "Data"
   ]
  },
  {
   "cell_type": "code",
   "execution_count": 20,
   "id": "f5748f4b",
   "metadata": {
    "execution": {
     "iopub.execute_input": "2023-08-23T03:28:51.043143Z",
     "iopub.status.busy": "2023-08-23T03:28:51.042094Z",
     "iopub.status.idle": "2023-08-23T03:28:51.050614Z",
     "shell.execute_reply": "2023-08-23T03:28:51.049328Z"
    },
    "papermill": {
     "duration": 0.02669,
     "end_time": "2023-08-23T03:28:51.053007",
     "exception": false,
     "start_time": "2023-08-23T03:28:51.026317",
     "status": "completed"
    },
    "tags": []
   },
   "outputs": [],
   "source": [
    "Data[\"Price($)\"] = Data[\"Price($)\"].str.replace(\"'\", \"\").str.replace(\",\", \"\").str.strip().astype(int)\n"
   ]
  },
  {
   "cell_type": "code",
   "execution_count": 21,
   "id": "c5e60f32",
   "metadata": {
    "execution": {
     "iopub.execute_input": "2023-08-23T03:28:51.083395Z",
     "iopub.status.busy": "2023-08-23T03:28:51.082659Z",
     "iopub.status.idle": "2023-08-23T03:28:51.092860Z",
     "shell.execute_reply": "2023-08-23T03:28:51.091540Z"
    },
    "papermill": {
     "duration": 0.028051,
     "end_time": "2023-08-23T03:28:51.095164",
     "exception": false,
     "start_time": "2023-08-23T03:28:51.067113",
     "status": "completed"
    },
    "tags": []
   },
   "outputs": [
    {
     "data": {
      "text/plain": [
       "array([ 999, 1199,  899,  279,  799,  249,  699,  329,  449,  199,  299,\n",
       "        379,  179,  729,  599,  139,  189,  399,  259,  159,  229,  499,\n",
       "        129,  529,  369, 1099,  169,   99,  459,  239, 1299,  429,  659,\n",
       "        269,  359,  549,  319,  349,  969,  149,  219,  109,  389,  309,\n",
       "        849,  469,  209,  119,  339,  289,  130,  749,  649,  419, 1399,\n",
       "       1999, 1049])"
      ]
     },
     "execution_count": 21,
     "metadata": {},
     "output_type": "execute_result"
    }
   ],
   "source": [
    "Data[\"Price($)\"].unique()"
   ]
  },
  {
   "cell_type": "code",
   "execution_count": 22,
   "id": "18c71322",
   "metadata": {
    "execution": {
     "iopub.execute_input": "2023-08-23T03:28:51.125653Z",
     "iopub.status.busy": "2023-08-23T03:28:51.124878Z",
     "iopub.status.idle": "2023-08-23T03:28:51.394976Z",
     "shell.execute_reply": "2023-08-23T03:28:51.393500Z"
    },
    "papermill": {
     "duration": 0.288469,
     "end_time": "2023-08-23T03:28:51.397775",
     "exception": false,
     "start_time": "2023-08-23T03:28:51.109306",
     "status": "completed"
    },
    "tags": []
   },
   "outputs": [
    {
     "data": {
      "text/plain": [
       "<Axes: xlabel='Price($)'>"
      ]
     },
     "execution_count": 22,
     "metadata": {},
     "output_type": "execute_result"
    },
    {
     "data": {
      "image/png": "[encoded data removed]",
      "text/plain": [
       "<Figure size 640x480 with 1 Axes>"
      ]
     },
     "metadata": {},
     "output_type": "display_data"
    }
   ],
   "source": [
    "sns.boxplot(x=Data[\"Price($)\"])"
   ]
  },
  {
   "cell_type": "code",
   "execution_count": 23,
   "id": "2c9c5292",
   "metadata": {
    "execution": {
     "iopub.execute_input": "2023-08-23T03:28:51.429373Z",
     "iopub.status.busy": "2023-08-23T03:28:51.428882Z",
     "iopub.status.idle": "2023-08-23T03:28:51.835099Z",
     "shell.execute_reply": "2023-08-23T03:28:51.834212Z"
    },
    "papermill": {
     "duration": 0.427848,
     "end_time": "2023-08-23T03:28:51.840144",
     "exception": false,
     "start_time": "2023-08-23T03:28:51.412296",
     "status": "completed"
    },
    "tags": []
   },
   "outputs": [
    {
     "name": "stdout",
     "output_type": "stream",
     "text": [
      "Mean Squared Error: 18415.521383447507\n"
     ]
    }
   ],
   "source": [
    "from sklearn.model_selection import train_test_split\n",
    "from sklearn import linear_model\n",
    "from sklearn.metrics import mean_squared_error\n",
    "x= Data.iloc[:, :-1]\n",
    "y=Data[\"Price($)\"]\n",
    "X_train, X_test, y_train, y_test = train_test_split(x,y,test_size=0.25, random_state=42)\n",
    "reg = linear_model.LinearRegression()\n",
    "reg.fit(X_train,y_train)\n",
    "y_pred = reg.predict(X_test)\n",
    "mse = mean_squared_error(y_test, y_pred)\n",
    "print(\"Mean Squared Error:\", mse)\n",
    "\n",
    "\n",
    "\n"
   ]
  },
  {
   "cell_type": "code",
   "execution_count": 24,
   "id": "4aac58ee",
   "metadata": {
    "execution": {
     "iopub.execute_input": "2023-08-23T03:28:51.872532Z",
     "iopub.status.busy": "2023-08-23T03:28:51.872120Z",
     "iopub.status.idle": "2023-08-23T03:28:51.882839Z",
     "shell.execute_reply": "2023-08-23T03:28:51.881520Z"
    },
    "papermill": {
     "duration": 0.029215,
     "end_time": "2023-08-23T03:28:51.884889",
     "exception": false,
     "start_time": "2023-08-23T03:28:51.855674",
     "status": "completed"
    },
    "tags": []
   },
   "outputs": [
    {
     "data": {
      "text/plain": [
       "0.744603704963331"
      ]
     },
     "execution_count": 24,
     "metadata": {},
     "output_type": "execute_result"
    }
   ],
   "source": [
    "reg.score(X_train,y_train)\n"
   ]
  },
  {
   "cell_type": "code",
   "execution_count": 25,
   "id": "2389b97a",
   "metadata": {
    "execution": {
     "iopub.execute_input": "2023-08-23T03:28:51.916815Z",
     "iopub.status.busy": "2023-08-23T03:28:51.916067Z",
     "iopub.status.idle": "2023-08-23T03:28:51.924496Z",
     "shell.execute_reply": "2023-08-23T03:28:51.923714Z"
    },
    "papermill": {
     "duration": 0.026885,
     "end_time": "2023-08-23T03:28:51.926620",
     "exception": false,
     "start_time": "2023-08-23T03:28:51.899735",
     "status": "completed"
    },
    "tags": []
   },
   "outputs": [
    {
     "data": {
      "text/plain": [
       "0.7829430008272532"
      ]
     },
     "execution_count": 25,
     "metadata": {},
     "output_type": "execute_result"
    }
   ],
   "source": [
    "reg.score(X_test , y_test)"
   ]
  },
  {
   "cell_type": "code",
   "execution_count": 26,
   "id": "627a69b7",
   "metadata": {
    "execution": {
     "iopub.execute_input": "2023-08-23T03:28:51.958799Z",
     "iopub.status.busy": "2023-08-23T03:28:51.958104Z",
     "iopub.status.idle": "2023-08-23T03:28:51.964935Z",
     "shell.execute_reply": "2023-08-23T03:28:51.963847Z"
    },
    "papermill": {
     "duration": 0.025778,
     "end_time": "2023-08-23T03:28:51.967434",
     "exception": false,
     "start_time": "2023-08-23T03:28:51.941656",
     "status": "completed"
    },
    "tags": []
   },
   "outputs": [
    {
     "data": {
      "text/plain": [
       "array([-2.31031669e+01,  3.14463154e-01,  1.68606227e+00,  5.34960463e+01,\n",
       "        1.84229630e+02, -1.30849544e+00, -8.36055006e-02])"
      ]
     },
     "execution_count": 26,
     "metadata": {},
     "output_type": "execute_result"
    }
   ],
   "source": [
    "reg.coef_"
   ]
  },
  {
   "cell_type": "code",
   "execution_count": 27,
   "id": "51b91879",
   "metadata": {
    "execution": {
     "iopub.execute_input": "2023-08-23T03:28:52.001073Z",
     "iopub.status.busy": "2023-08-23T03:28:52.000660Z",
     "iopub.status.idle": "2023-08-23T03:28:52.008657Z",
     "shell.execute_reply": "2023-08-23T03:28:52.007850Z"
    },
    "papermill": {
     "duration": 0.027269,
     "end_time": "2023-08-23T03:28:52.010817",
     "exception": false,
     "start_time": "2023-08-23T03:28:51.983548",
     "status": "completed"
    },
    "tags": []
   },
   "outputs": [
    {
     "data": {
      "text/plain": [
       "0.3157876544573506"
      ]
     },
     "execution_count": 27,
     "metadata": {},
     "output_type": "execute_result"
    }
   ],
   "source": [
    "from sklearn.metrics import mean_absolute_error , mean_absolute_percentage_error , mean_squared_error\n",
    "mape = mean_absolute_percentage_error(y_test , y_pred)\n",
    "mape"
   ]
  },
  {
   "cell_type": "code",
   "execution_count": 28,
   "id": "c29a18e2",
   "metadata": {
    "execution": {
     "iopub.execute_input": "2023-08-23T03:28:52.045132Z",
     "iopub.status.busy": "2023-08-23T03:28:52.043145Z",
     "iopub.status.idle": "2023-08-23T03:28:52.062041Z",
     "shell.execute_reply": "2023-08-23T03:28:52.061119Z"
    },
    "papermill": {
     "duration": 0.037985,
     "end_time": "2023-08-23T03:28:52.064226",
     "exception": false,
     "start_time": "2023-08-23T03:28:52.026241",
     "status": "completed"
    },
    "tags": []
   },
   "outputs": [
    {
     "data": {
      "text/plain": [
       "0.7443631312228634"
      ]
     },
     "execution_count": 28,
     "metadata": {},
     "output_type": "execute_result"
    }
   ],
   "source": [
    "from sklearn.linear_model import LassoLars\n",
    "rid = LassoLars()\n",
    "rid.fit(X_train,y_train)\n",
    "rid.score(X_train,y_train)"
   ]
  },
  {
   "cell_type": "code",
   "execution_count": 29,
   "id": "98a0d523",
   "metadata": {
    "execution": {
     "iopub.execute_input": "2023-08-23T03:28:52.098383Z",
     "iopub.status.busy": "2023-08-23T03:28:52.097413Z",
     "iopub.status.idle": "2023-08-23T03:28:52.108011Z",
     "shell.execute_reply": "2023-08-23T03:28:52.106838Z"
    },
    "papermill": {
     "duration": 0.030291,
     "end_time": "2023-08-23T03:28:52.110258",
     "exception": false,
     "start_time": "2023-08-23T03:28:52.079967",
     "status": "completed"
    },
    "tags": []
   },
   "outputs": [
    {
     "data": {
      "text/plain": [
       "0.7832735819045086"
      ]
     },
     "execution_count": 29,
     "metadata": {},
     "output_type": "execute_result"
    }
   ],
   "source": [
    "rid.score(X_test , y_test)"
   ]
  },
  {
   "cell_type": "code",
   "execution_count": 30,
   "id": "30d1a600",
   "metadata": {
    "execution": {
     "iopub.execute_input": "2023-08-23T03:28:52.145092Z",
     "iopub.status.busy": "2023-08-23T03:28:52.144235Z",
     "iopub.status.idle": "2023-08-23T03:28:52.148683Z",
     "shell.execute_reply": "2023-08-23T03:28:52.147839Z"
    },
    "papermill": {
     "duration": 0.024514,
     "end_time": "2023-08-23T03:28:52.150921",
     "exception": false,
     "start_time": "2023-08-23T03:28:52.126407",
     "status": "completed"
    },
    "tags": []
   },
   "outputs": [],
   "source": [
    "#ridge"
   ]
  },
  {
   "cell_type": "code",
   "execution_count": 31,
   "id": "ac8b1f29",
   "metadata": {
    "execution": {
     "iopub.execute_input": "2023-08-23T03:28:52.184409Z",
     "iopub.status.busy": "2023-08-23T03:28:52.184006Z",
     "iopub.status.idle": "2023-08-23T03:28:52.199168Z",
     "shell.execute_reply": "2023-08-23T03:28:52.198066Z"
    },
    "papermill": {
     "duration": 0.034855,
     "end_time": "2023-08-23T03:28:52.201492",
     "exception": false,
     "start_time": "2023-08-23T03:28:52.166637",
     "status": "completed"
    },
    "tags": []
   },
   "outputs": [
    {
     "data": {
      "text/plain": [
       "0.7445836121941858"
      ]
     },
     "execution_count": 31,
     "metadata": {},
     "output_type": "execute_result"
    }
   ],
   "source": [
    "from sklearn.linear_model import RidgeCV\n",
    "red = RidgeCV(alphas = 0.5)\n",
    "red.fit(X_train,y_train)\n",
    "red.score(X_train,y_train)"
   ]
  },
  {
   "cell_type": "code",
   "execution_count": 32,
   "id": "609181fe",
   "metadata": {
    "execution": {
     "iopub.execute_input": "2023-08-23T03:28:52.235091Z",
     "iopub.status.busy": "2023-08-23T03:28:52.234064Z",
     "iopub.status.idle": "2023-08-23T03:28:52.243452Z",
     "shell.execute_reply": "2023-08-23T03:28:52.242615Z"
    },
    "papermill": {
     "duration": 0.028444,
     "end_time": "2023-08-23T03:28:52.245576",
     "exception": false,
     "start_time": "2023-08-23T03:28:52.217132",
     "status": "completed"
    },
    "tags": []
   },
   "outputs": [
    {
     "data": {
      "text/plain": [
       "0.7832735819045086"
      ]
     },
     "execution_count": 32,
     "metadata": {},
     "output_type": "execute_result"
    }
   ],
   "source": [
    "rid.score(X_test , y_test)"
   ]
  },
  {
   "cell_type": "code",
   "execution_count": 33,
   "id": "504d506d",
   "metadata": {
    "execution": {
     "iopub.execute_input": "2023-08-23T03:28:52.280443Z",
     "iopub.status.busy": "2023-08-23T03:28:52.279689Z",
     "iopub.status.idle": "2023-08-23T03:28:52.590958Z",
     "shell.execute_reply": "2023-08-23T03:28:52.589469Z"
    },
    "papermill": {
     "duration": 0.332345,
     "end_time": "2023-08-23T03:28:52.593742",
     "exception": false,
     "start_time": "2023-08-23T03:28:52.261397",
     "status": "completed"
    },
    "tags": []
   },
   "outputs": [
    {
     "data": {
      "text/plain": [
       "[<matplotlib.lines.Line2D at 0x7df10aa5b280>]"
      ]
     },
     "execution_count": 33,
     "metadata": {},
     "output_type": "execute_result"
    },
    {
     "data": {
      "image/png": "[encoded data removed]",
      "text/plain": [
       "<Figure size 640x480 with 1 Axes>"
      ]
     },
     "metadata": {},
     "output_type": "display_data"
    }
   ],
   "source": [
    "plt.plot(y_pred, y_test)"
   ]
  },
  {
   "cell_type": "code",
   "execution_count": 34,
   "id": "f485a7d3",
   "metadata": {
    "execution": {
     "iopub.execute_input": "2023-08-23T03:28:52.630759Z",
     "iopub.status.busy": "2023-08-23T03:28:52.630325Z",
     "iopub.status.idle": "2023-08-23T03:28:52.984368Z",
     "shell.execute_reply": "2023-08-23T03:28:52.982805Z"
    },
    "papermill": {
     "duration": 0.377258,
     "end_time": "2023-08-23T03:28:52.988440",
     "exception": false,
     "start_time": "2023-08-23T03:28:52.611182",
     "status": "completed"
    },
    "tags": []
   },
   "outputs": [
    {
     "data": {
      "text/plain": [
       "[<matplotlib.lines.Line2D at 0x7df10aaedcc0>,\n",
       " <matplotlib.lines.Line2D at 0x7df10aaedc60>]"
      ]
     },
     "execution_count": 34,
     "metadata": {},
     "output_type": "execute_result"
    },
    {
     "data": {
      "image/png": "[encoded data removed]",
      "text/plain": [
       "<Figure size 640x480 with 1 Axes>"
      ]
     },
     "metadata": {},
     "output_type": "display_data"
    }
   ],
   "source": [
    "df2 = pd.DataFrame({\"Y_test\" : y_test , \"Y_predict\": y_pred})\n",
    "plt.legend([\"Actual\" ,\"Predicted\"])\n",
    "plt.plot(df2)"
   ]
  }
 ],
 "metadata": {
  "kernelspec": {
   "display_name": "Python 3",
   "language": "python",
   "name": "python3"
  },
  "language_info": {
   "codemirror_mode": {
    "name": "ipython",
    "version": 3
   },
   "file_extension": ".py",
   "mimetype": "text/x-python",
   "name": "python",
   "nbconvert_exporter": "python",
   "pygments_lexer": "ipython3",
   "version": "3.10.12"
  },
  "papermill": {
   "default_parameters": {},
   "duration": 18.368407,
   "end_time": "2023-08-23T03:28:54.335116",
   "environment_variables": {},
   "exception": null,
   "input_path": "__notebook__.ipynb",
   "output_path": "__notebook__.ipynb",
   "parameters": {},
   "start_time": "2023-08-23T03:28:35.966709",
   "version": "2.4.0"
  }
 },
 "nbformat": 4,
 "nbformat_minor": 5
}
